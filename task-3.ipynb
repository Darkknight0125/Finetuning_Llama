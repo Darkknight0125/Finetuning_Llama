{
  "metadata": {
    "kernelspec": {
      "language": "python",
      "display_name": "Python 3",
      "name": "python3"
    },
    "language_info": {
      "name": "python",
      "version": "3.10.14",
      "mimetype": "text/x-python",
      "codemirror_mode": {
        "name": "ipython",
        "version": 3
      },
      "pygments_lexer": "ipython3",
      "nbconvert_exporter": "python",
      "file_extension": ".py"
    },
    "kaggle": {
      "accelerator": "none",
      "dataSources": [],
      "dockerImageVersionId": 30804,
      "isInternetEnabled": true,
      "language": "python",
      "sourceType": "notebook",
      "isGpuEnabled": false
    },
    "colab": {
      "name": "Task_3",
      "provenance": []
    }
  },
  "nbformat_minor": 0,
  "nbformat": 4,
  "cells": [
    {
      "cell_type": "markdown",
      "source": [],
      "metadata": {
        "id": "5HTpFHemea-K"
      }
    },
    {
      "cell_type": "markdown",
      "source": [
        "#**Copy this task at end of task #2 notebook**#"
      ],
      "metadata": {
        "id": "BEc_F0L0ea-L"
      }
    },
    {
      "cell_type": "code",
      "source": [
        "# Do the tasks mentioned below at the end of task2 notebook."
      ],
      "metadata": {
        "_uuid": "8f2839f25d086af736a60e9eeb907d3b93b6e0e5",
        "_cell_guid": "b1076dfc-b9ad-4769-8c92-a6c4dae69d19",
        "trusted": true,
        "execution": {
          "iopub.status.busy": "2024-12-08T21:44:54.737411Z",
          "iopub.execute_input": "2024-12-08T21:44:54.737836Z",
          "iopub.status.idle": "2024-12-08T21:44:54.760757Z",
          "shell.execute_reply.started": "2024-12-08T21:44:54.737797Z",
          "shell.execute_reply": "2024-12-08T21:44:54.759744Z"
        },
        "id": "1RFkN6AFea-N"
      },
      "outputs": [],
      "execution_count": null
    },
    {
      "cell_type": "markdown",
      "source": [
        "# **#Task 3**\n",
        "1.Store the path of the preprocessed dataset to a string named dataset_name\n",
        "<br>\n",
        "2.Specify the pre-Trained llm from hugging face hub to string named model_name\n",
        "<br>\n",
        "3.Define the required parameters for fine tuning the llm ((these definitions will be used further)).\n",
        "<br>\n",
        "refer this resource : 1.https://huggingface.co/docs/peft/v0.13.0/en/package_reference/lora#peft.LoraConfig\n",
        "<br>\n",
        "2.https://arxiv.org/abs/2106.09685\n",
        "\n",
        "\n",
        "\n"
      ],
      "metadata": {
        "id": "kNQ7nW2Hea-O"
      }
    },
    {
      "cell_type": "markdown",
      "source": [],
      "metadata": {
        "id": "ApMdQXlgea-O"
      }
    },
    {
      "cell_type": "code",
      "source": [
        "#code goes here"
      ],
      "metadata": {
        "trusted": true,
        "execution": {
          "iopub.status.busy": "2024-12-08T22:09:55.074055Z",
          "iopub.execute_input": "2024-12-08T22:09:55.074486Z",
          "iopub.status.idle": "2024-12-08T22:09:55.079389Z",
          "shell.execute_reply.started": "2024-12-08T22:09:55.074452Z",
          "shell.execute_reply": "2024-12-08T22:09:55.0781Z"
        },
        "id": "KiOqTNRcea-P"
      },
      "outputs": [],
      "execution_count": null
    },
    {
      "cell_type": "markdown",
      "source": [
        "1. Define parameters for quantization technique, especially use 4 bit quantization method , Select quantization type that will increase the efficiency.(these definitions will be used further)\n",
        "2. Refer to this resource for guidance : https://huggingface.co/blog/4bit-transformers-bitsandbytes\n"
      ],
      "metadata": {
        "id": "agexQqdZea-P"
      }
    },
    {
      "cell_type": "code",
      "source": [
        "#your code goes here"
      ],
      "metadata": {
        "trusted": true,
        "execution": {
          "iopub.status.busy": "2024-12-08T22:14:55.351336Z",
          "iopub.execute_input": "2024-12-08T22:14:55.351953Z",
          "iopub.status.idle": "2024-12-08T22:14:55.356968Z",
          "shell.execute_reply.started": "2024-12-08T22:14:55.351899Z",
          "shell.execute_reply": "2024-12-08T22:14:55.355684Z"
        },
        "id": "jameJ14Dea-P"
      },
      "outputs": [],
      "execution_count": null
    },
    {
      "cell_type": "markdown",
      "source": [
        "1. Set up the training parameters(no. of epochs , tarin,eval batch size , learning rate etc )\n",
        "2. refer to this resource for guidance : https://learn.deeplearning.ai/courses/finetuning-large-language-models/lesson/6/training-process\n",
        "<br>https://arxiv.org/html/2408.13296v1#Ch5.S3 <br>\n",
        "\n",
        "3.Name the  directory to save model checkpoints as output_dir"
      ],
      "metadata": {
        "id": "GAVUSw_3ea-P"
      }
    },
    {
      "cell_type": "code",
      "source": [
        "#yout code goes here"
      ],
      "metadata": {
        "trusted": true,
        "execution": {
          "iopub.status.busy": "2024-12-08T22:43:12.939436Z",
          "iopub.execute_input": "2024-12-08T22:43:12.93988Z",
          "iopub.status.idle": "2024-12-08T22:43:12.94481Z",
          "shell.execute_reply.started": "2024-12-08T22:43:12.939843Z",
          "shell.execute_reply": "2024-12-08T22:43:12.943662Z"
        },
        "id": "4SPT8IDtea-Q"
      },
      "outputs": [],
      "execution_count": null
    },
    {
      "cell_type": "markdown",
      "source": [
        "1. Define Supervised Fine Tuning Parameters (SFT) required for fine tuning the llm .\n",
        "2. refer to this resource for getting the parameters : https://huggingface.co/docs/trl/en/sft_trainer"
      ],
      "metadata": {
        "id": "Wj6ky1PEea-Q"
      }
    },
    {
      "cell_type": "code",
      "source": [
        "#your code goes here"
      ],
      "metadata": {
        "trusted": true,
        "execution": {
          "iopub.status.busy": "2024-12-08T22:49:23.57012Z",
          "iopub.execute_input": "2024-12-08T22:49:23.570552Z",
          "iopub.status.idle": "2024-12-08T22:49:23.577473Z",
          "shell.execute_reply.started": "2024-12-08T22:49:23.570515Z",
          "shell.execute_reply": "2024-12-08T22:49:23.576032Z"
        },
        "id": "KejQS3Tqea-Q"
      },
      "outputs": [],
      "execution_count": null
    },
    {
      "cell_type": "code",
      "source": [],
      "metadata": {
        "trusted": true,
        "id": "ijyE9az2ea-Q"
      },
      "outputs": [],
      "execution_count": null
    }
  ]
}
